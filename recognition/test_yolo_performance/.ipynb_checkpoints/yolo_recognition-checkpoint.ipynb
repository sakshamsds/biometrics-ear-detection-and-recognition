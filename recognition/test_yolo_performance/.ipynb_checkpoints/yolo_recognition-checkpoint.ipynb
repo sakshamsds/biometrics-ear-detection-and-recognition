{
 "cells": [
  {
   "cell_type": "code",
   "execution_count": 1,
   "id": "50a5d475-b32a-4e26-8cb8-8b0a26c0e354",
   "metadata": {},
   "outputs": [],
   "source": [
    "# import the libraries\n",
    "\n",
    "from ultralytics import YOLO"
   ]
  },
  {
   "cell_type": "code",
   "execution_count": 2,
   "id": "3902469c-ab8e-4d9d-9988-1c04645fdd61",
   "metadata": {},
   "outputs": [],
   "source": [
    "# Download the model\n",
    "\n",
    "# model = YOLO('yolov8x-cls.pt')  # load a pretrained model (recommended for training)\n",
    "model = YOLO('yolov8m-cls.pt')  # load a pretrained model (recommended for training)"
   ]
  },
  {
   "cell_type": "code",
   "execution_count": 3,
   "id": "deba141b-e88a-4077-952e-ee1e898907bc",
   "metadata": {},
   "outputs": [
    {
     "name": "stderr",
     "output_type": "stream",
     "text": [
      "New https://pypi.org/project/ultralytics/8.0.105 available  Update with 'pip install -U ultralytics'\n",
      "Ultralytics YOLOv8.0.91  Python-3.11.3 torch-2.0.0+cu118 CUDA:0 (NVIDIA GeForce RTX 3060 Laptop GPU, 6144MiB)\n",
      "\u001b[34m\u001b[1myolo\\engine\\trainer: \u001b[0mtask=classify, mode=train, model=yolov8m-cls.pt, data=./dataset/, epochs=10, patience=50, batch=16, imgsz=224, save=True, save_period=-1, cache=False, device=None, workers=8, project=None, name=None, exist_ok=False, pretrained=False, optimizer=SGD, verbose=True, seed=0, deterministic=True, single_cls=False, rect=False, cos_lr=False, close_mosaic=0, resume=False, amp=True, overlap_mask=True, mask_ratio=4, dropout=0.0, val=True, split=val, save_json=False, save_hybrid=False, conf=None, iou=0.7, max_det=300, half=False, dnn=False, plots=True, source=None, show=False, save_txt=False, save_conf=False, save_crop=False, show_labels=True, show_conf=True, vid_stride=1, line_thickness=3, visualize=False, augment=False, agnostic_nms=False, classes=None, retina_masks=False, boxes=True, format=torchscript, keras=False, optimize=False, int8=False, dynamic=False, simplify=False, opset=None, workspace=4, nms=False, lr0=0.01, lrf=0.01, momentum=0.937, weight_decay=0.0005, warmup_epochs=3.0, warmup_momentum=0.8, warmup_bias_lr=0.1, box=7.5, cls=0.5, dfl=1.5, pose=12.0, kobj=1.0, label_smoothing=0.0, nbs=64, hsv_h=0.015, hsv_s=0.7, hsv_v=0.4, degrees=0.0, translate=0.1, scale=0.5, shear=0.0, perspective=0.0, flipud=0.0, fliplr=0.5, mosaic=1.0, mixup=0.0, copy_paste=0.0, cfg=None, v5loader=False, tracker=botsort.yaml, save_dir=runs\\classify\\train\n",
      "Overriding model.yaml nc=1000 with nc=169\n",
      "\n",
      "                   from  n    params  module                                       arguments                     \n",
      "  0                  -1  1      1392  ultralytics.nn.modules.Conv                  [3, 48, 3, 2]                 \n",
      "  1                  -1  1     41664  ultralytics.nn.modules.Conv                  [48, 96, 3, 2]                \n",
      "  2                  -1  2    111360  ultralytics.nn.modules.C2f                   [96, 96, 2, True]             \n",
      "  3                  -1  1    166272  ultralytics.nn.modules.Conv                  [96, 192, 3, 2]               \n",
      "  4                  -1  4    813312  ultralytics.nn.modules.C2f                   [192, 192, 4, True]           \n",
      "  5                  -1  1    664320  ultralytics.nn.modules.Conv                  [192, 384, 3, 2]              \n",
      "  6                  -1  4   3248640  ultralytics.nn.modules.C2f                   [384, 384, 4, True]           \n",
      "  7                  -1  1   2655744  ultralytics.nn.modules.Conv                  [384, 768, 3, 2]              \n",
      "  8                  -1  2   7084032  ultralytics.nn.modules.C2f                   [768, 768, 2, True]           \n",
      "  9                  -1  1   1202089  ultralytics.nn.modules.Classify              [768, 169]                    \n",
      "YOLOv8m-cls summary: 141 layers, 15988825 parameters, 15988825 gradients, 42.1 GFLOPs\n",
      "Transferred 228/230 items from pretrained weights\n",
      "\u001b[34m\u001b[1mTensorBoard: \u001b[0mStart with 'tensorboard --logdir runs\\classify\\train', view at http://localhost:6006/\n",
      "\u001b[34m\u001b[1mAMP: \u001b[0mrunning Automatic Mixed Precision (AMP) checks with YOLOv8n...\n",
      "Downloading https:\\github.com\\ultralytics\\assets\\releases\\download\\v0.0.0\\yolov8n.pt to yolov8n.pt...\n",
      "100%|█████████████████████████████████████████████████████████████████████████████| 6.23M/6.23M [00:00<00:00, 21.9MB/s]\n",
      "\u001b[34m\u001b[1mAMP: \u001b[0mchecks passed \n",
      "\u001b[34m\u001b[1moptimizer:\u001b[0m SGD(lr=0.01) with parameter groups 38 weight(decay=0.0), 39 weight(decay=0.0005), 39 bias\n",
      "Image sizes 224 train, 224 val\n",
      "Using 8 dataloader workers\n",
      "Logging results to \u001b[1mruns\\classify\\train\u001b[0m\n",
      "Starting training for 10 epochs...\n",
      "\n",
      "      Epoch    GPU_mem       loss  Instances       Size\n",
      "       1/10      1.04G      1.255         16        224: 100%|██████████| 2853/2853 [02:32<00:00, 18.67it/s]\n",
      "               classes   top1_acc   top5_acc: 100%|██████████| 177/177 [00:04<00:00, 41.75it/s]\n",
      "                   all     0.0299      0.118\n",
      "\n",
      "      Epoch    GPU_mem       loss  Instances       Size\n",
      "       2/10      1.02G      1.178         16        224: 100%|██████████| 2853/2853 [02:09<00:00, 21.98it/s]\n",
      "               classes   top1_acc   top5_acc: 100%|██████████| 177/177 [00:04<00:00, 43.81it/s]\n",
      "                   all     0.0589      0.189\n",
      "\n",
      "      Epoch    GPU_mem       loss  Instances       Size\n",
      "       3/10      1.04G      1.053         16        224: 100%|██████████| 2853/2853 [02:11<00:00, 21.78it/s]\n",
      "               classes   top1_acc   top5_acc: 100%|██████████| 177/177 [00:03<00:00, 44.89it/s]\n",
      "                   all      0.154      0.373\n",
      "\n",
      "      Epoch    GPU_mem       loss  Instances       Size\n",
      "       4/10      1.03G     0.8168         16        224: 100%|██████████| 2853/2853 [02:16<00:00, 20.97it/s]\n",
      "               classes   top1_acc   top5_acc: 100%|██████████| 177/177 [00:04<00:00, 43.60it/s]\n",
      "                   all      0.401      0.691\n",
      "\n",
      "      Epoch    GPU_mem       loss  Instances       Size\n",
      "       5/10      1.01G     0.5732         16        224: 100%|██████████| 2853/2853 [02:13<00:00, 21.34it/s]\n",
      "               classes   top1_acc   top5_acc: 100%|██████████| 177/177 [00:04<00:00, 41.77it/s]\n",
      "                   all      0.595      0.832\n",
      "\n",
      "      Epoch    GPU_mem       loss  Instances       Size\n",
      "       6/10      1.04G     0.3854         16        224: 100%|██████████| 2853/2853 [02:17<00:00, 20.76it/s]\n",
      "               classes   top1_acc   top5_acc: 100%|██████████| 177/177 [00:04<00:00, 43.22it/s]\n",
      "                   all      0.715      0.895\n",
      "\n",
      "      Epoch    GPU_mem       loss  Instances       Size\n",
      "       7/10         1G     0.2618         16        224: 100%|██████████| 2853/2853 [02:11<00:00, 21.72it/s]\n",
      "               classes   top1_acc   top5_acc: 100%|██████████| 177/177 [00:04<00:00, 43.45it/s]\n",
      "                   all      0.774      0.919\n",
      "\n",
      "      Epoch    GPU_mem       loss  Instances       Size\n",
      "       8/10      1.12G     0.1717         16        224: 100%|██████████| 2853/2853 [02:10<00:00, 21.84it/s]\n",
      "               classes   top1_acc   top5_acc: 100%|██████████| 177/177 [00:04<00:00, 43.26it/s]\n",
      "                   all      0.803      0.932\n",
      "\n",
      "      Epoch    GPU_mem       loss  Instances       Size\n",
      "       9/10      1.02G     0.1033         16        224: 100%|██████████| 2853/2853 [02:14<00:00, 21.15it/s]\n",
      "               classes   top1_acc   top5_acc: 100%|██████████| 177/177 [00:04<00:00, 40.19it/s]\n",
      "                   all      0.817      0.941\n",
      "\n",
      "      Epoch    GPU_mem       loss  Instances       Size\n",
      "      10/10      1.04G    0.05195         16        224: 100%|██████████| 2853/2853 [02:17<00:00, 20.77it/s]\n",
      "               classes   top1_acc   top5_acc: 100%|██████████| 177/177 [00:04<00:00, 41.43it/s]\n",
      "                   all       0.83      0.941\n",
      "\n",
      "10 epochs completed in 0.390 hours.\n",
      "Optimizer stripped from runs\\classify\\train\\weights\\last.pt, 32.1MB\n",
      "Optimizer stripped from runs\\classify\\train\\weights\\best.pt, 32.1MB\n",
      "Results saved to \u001b[1mruns\\classify\\train\u001b[0m\n"
     ]
    }
   ],
   "source": [
    "# Train the model\n",
    "\n",
    "model.train(data=\"./dataset/\", epochs=10, imgsz=224)"
   ]
  },
  {
   "cell_type": "code",
   "execution_count": 4,
   "id": "ca572adf-95af-45f9-ab2c-e7b2c3df6a06",
   "metadata": {},
   "outputs": [
    {
     "name": "stderr",
     "output_type": "stream",
     "text": [
      "Ultralytics YOLOv8.0.91  Python-3.11.3 torch-2.0.0+cu118 CUDA:0 (NVIDIA GeForce RTX 3060 Laptop GPU, 6144MiB)\n",
      "YOLOv8m-cls summary (fused): 103 layers, 15979145 parameters, 0 gradients, 41.8 GFLOPs\n",
      "               classes   top1_acc   top5_acc: 100%|██████████| 354/354 [00:07<00:00, 48.54it/s]\n",
      "                   all       0.83      0.941\n",
      "Speed: 0.1ms preprocess, 1.1ms inference, 0.0ms loss, 0.0ms postprocess per image\n",
      "Results saved to \u001b[1mruns\\classify\\val\u001b[0m\n"
     ]
    }
   ],
   "source": [
    "# Evaluate on validation set \n",
    "\n",
    "metrics = model.val()"
   ]
  },
  {
   "cell_type": "code",
   "execution_count": 5,
   "id": "d13f2e88-3ae6-4935-9f80-63713ad3e43c",
   "metadata": {},
   "outputs": [
    {
     "data": {
      "text/plain": [
       "0.8295916318893433"
      ]
     },
     "execution_count": 5,
     "metadata": {},
     "output_type": "execute_result"
    }
   ],
   "source": [
    "metrics.top1"
   ]
  },
  {
   "cell_type": "code",
   "execution_count": 6,
   "id": "4e8f1b95-b5fd-496e-9ea0-bfd226d62551",
   "metadata": {},
   "outputs": [
    {
     "data": {
      "text/plain": [
       "0.9411348700523376"
      ]
     },
     "execution_count": 6,
     "metadata": {},
     "output_type": "execute_result"
    }
   ],
   "source": [
    "metrics.top5"
   ]
  }
 ],
 "metadata": {
  "kernelspec": {
   "display_name": "Python 3 (ipykernel)",
   "language": "python",
   "name": "python3"
  },
  "language_info": {
   "codemirror_mode": {
    "name": "ipython",
    "version": 3
   },
   "file_extension": ".py",
   "mimetype": "text/x-python",
   "name": "python",
   "nbconvert_exporter": "python",
   "pygments_lexer": "ipython3",
   "version": "3.11.3"
  }
 },
 "nbformat": 4,
 "nbformat_minor": 5
}
